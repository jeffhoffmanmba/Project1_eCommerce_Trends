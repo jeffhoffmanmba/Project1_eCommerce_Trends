{
 "cells": [
  {
   "cell_type": "code",
   "execution_count": 205,
   "metadata": {},
   "outputs": [],
   "source": [
    "%matplotlib notebook"
   ]
  },
  {
   "cell_type": "code",
   "execution_count": 206,
   "metadata": {},
   "outputs": [],
   "source": [
    "# Import Dependencies Libraries\n",
    "import os\n",
    "import matplotlib.pyplot as plt\n",
    "import pandas as pd\n",
    "import scipy.stats as st\n",
    "import numpy as np\n",
    "import seaborn as sns\n",
    "from pylab import rcParams\n",
    "from pandas import Series"
   ]
  },
  {
   "cell_type": "code",
   "execution_count": 207,
   "metadata": {},
   "outputs": [],
   "source": [
    "%matplotlib inline\n",
    "from pandas.plotting import register_matplotlib_converters\n",
    "register_matplotlib_converters()"
   ]
  },
  {
   "cell_type": "code",
   "execution_count": 208,
   "metadata": {},
   "outputs": [
    {
     "data": {
      "text/html": [
       "<div>\n",
       "<style scoped>\n",
       "    .dataframe tbody tr th:only-of-type {\n",
       "        vertical-align: middle;\n",
       "    }\n",
       "\n",
       "    .dataframe tbody tr th {\n",
       "        vertical-align: top;\n",
       "    }\n",
       "\n",
       "    .dataframe thead th {\n",
       "        text-align: right;\n",
       "    }\n",
       "</style>\n",
       "<table border=\"1\" class=\"dataframe\">\n",
       "  <thead>\n",
       "    <tr style=\"text-align: right;\">\n",
       "      <th></th>\n",
       "      <th>Index</th>\n",
       "      <th>Global retail e-commerce sales (in billion $US dollars)</th>\n",
       "      <th>Month/Date</th>\n",
       "      <th>Global GDP (billion $US dollars)</th>\n",
       "      <th>Month/Date2</th>\n",
       "    </tr>\n",
       "  </thead>\n",
       "  <tbody>\n",
       "    <tr>\n",
       "      <th>0</th>\n",
       "      <td>1</td>\n",
       "      <td>572</td>\n",
       "      <td>12/31/2010</td>\n",
       "      <td>66110</td>\n",
       "      <td>31-Dec</td>\n",
       "    </tr>\n",
       "    <tr>\n",
       "      <th>1</th>\n",
       "      <td>2</td>\n",
       "      <td>680</td>\n",
       "      <td>12/31/2011</td>\n",
       "      <td>68190</td>\n",
       "      <td>31-Dec</td>\n",
       "    </tr>\n",
       "    <tr>\n",
       "      <th>2</th>\n",
       "      <td>3</td>\n",
       "      <td>893</td>\n",
       "      <td>12/31/2012</td>\n",
       "      <td>69910</td>\n",
       "      <td>31-Dec</td>\n",
       "    </tr>\n",
       "    <tr>\n",
       "      <th>3</th>\n",
       "      <td>4</td>\n",
       "      <td>1088</td>\n",
       "      <td>12/31/2013</td>\n",
       "      <td>71770</td>\n",
       "      <td>31-Dec</td>\n",
       "    </tr>\n",
       "    <tr>\n",
       "      <th>4</th>\n",
       "      <td>5</td>\n",
       "      <td>1316</td>\n",
       "      <td>12/31/2014</td>\n",
       "      <td>73810</td>\n",
       "      <td>31-Dec</td>\n",
       "    </tr>\n",
       "  </tbody>\n",
       "</table>\n",
       "</div>"
      ],
      "text/plain": [
       "   Index  Global retail e-commerce sales (in billion $US dollars)  Month/Date  \\\n",
       "0      1                                                572        12/31/2010   \n",
       "1      2                                                680        12/31/2011   \n",
       "2      3                                                893        12/31/2012   \n",
       "3      4                                               1088        12/31/2013   \n",
       "4      5                                               1316        12/31/2014   \n",
       "\n",
       "   Global GDP (billion $US dollars) Month/Date2  \n",
       "0                             66110      31-Dec  \n",
       "1                             68190      31-Dec  \n",
       "2                             69910      31-Dec  \n",
       "3                             71770      31-Dec  \n",
       "4                             73810      31-Dec  "
      ]
     },
     "execution_count": 208,
     "metadata": {},
     "output_type": "execute_result"
    }
   ],
   "source": [
    "#Read in the China Data CSV to Dataframe\n",
    "China_data_df = pd.read_csv('../Resources/global.csv')\n",
    "China_data_df.head()"
   ]
  },
  {
   "cell_type": "code",
   "execution_count": 210,
   "metadata": {},
   "outputs": [
    {
     "data": {
      "text/html": [
       "<div>\n",
       "<style scoped>\n",
       "    .dataframe tbody tr th:only-of-type {\n",
       "        vertical-align: middle;\n",
       "    }\n",
       "\n",
       "    .dataframe tbody tr th {\n",
       "        vertical-align: top;\n",
       "    }\n",
       "\n",
       "    .dataframe thead th {\n",
       "        text-align: right;\n",
       "    }\n",
       "</style>\n",
       "<table border=\"1\" class=\"dataframe\">\n",
       "  <thead>\n",
       "    <tr style=\"text-align: right;\">\n",
       "      <th></th>\n",
       "      <th>Index</th>\n",
       "      <th>Global retail e-commerce sales (in billion $US dollars)</th>\n",
       "      <th>Month/Date</th>\n",
       "      <th>Global GDP (billion $US dollars)</th>\n",
       "      <th>Month/Date2</th>\n",
       "    </tr>\n",
       "  </thead>\n",
       "  <tbody>\n",
       "    <tr>\n",
       "      <th>0</th>\n",
       "      <td>1</td>\n",
       "      <td>572</td>\n",
       "      <td>12/31/2010</td>\n",
       "      <td>66110</td>\n",
       "      <td>31-Dec</td>\n",
       "    </tr>\n",
       "    <tr>\n",
       "      <th>1</th>\n",
       "      <td>2</td>\n",
       "      <td>680</td>\n",
       "      <td>12/31/2011</td>\n",
       "      <td>68190</td>\n",
       "      <td>31-Dec</td>\n",
       "    </tr>\n",
       "    <tr>\n",
       "      <th>2</th>\n",
       "      <td>3</td>\n",
       "      <td>893</td>\n",
       "      <td>12/31/2012</td>\n",
       "      <td>69910</td>\n",
       "      <td>31-Dec</td>\n",
       "    </tr>\n",
       "    <tr>\n",
       "      <th>3</th>\n",
       "      <td>4</td>\n",
       "      <td>1088</td>\n",
       "      <td>12/31/2013</td>\n",
       "      <td>71770</td>\n",
       "      <td>31-Dec</td>\n",
       "    </tr>\n",
       "    <tr>\n",
       "      <th>4</th>\n",
       "      <td>5</td>\n",
       "      <td>1316</td>\n",
       "      <td>12/31/2014</td>\n",
       "      <td>73810</td>\n",
       "      <td>31-Dec</td>\n",
       "    </tr>\n",
       "  </tbody>\n",
       "</table>\n",
       "</div>"
      ],
      "text/plain": [
       "   Index  Global retail e-commerce sales (in billion $US dollars)  Month/Date  \\\n",
       "0      1                                                572        12/31/2010   \n",
       "1      2                                                680        12/31/2011   \n",
       "2      3                                                893        12/31/2012   \n",
       "3      4                                               1088        12/31/2013   \n",
       "4      5                                               1316        12/31/2014   \n",
       "\n",
       "   Global GDP (billion $US dollars) Month/Date2  \n",
       "0                             66110      31-Dec  \n",
       "1                             68190      31-Dec  \n",
       "2                             69910      31-Dec  \n",
       "3                             71770      31-Dec  \n",
       "4                             73810      31-Dec  "
      ]
     },
     "execution_count": 210,
     "metadata": {},
     "output_type": "execute_result"
    }
   ],
   "source": [
    "China_data_df.dropna(how='any', inplace=True)\n",
    "China_data_df.head()\n",
    "\n",
    "pd.options.display.float_format = \"{:,.2f}\".format\n",
    "China_data_df.head()"
   ]
  },
  {
   "cell_type": "code",
   "execution_count": 211,
   "metadata": {},
   "outputs": [
    {
     "data": {
      "text/plain": [
       "0   0.87\n",
       "1   1.00\n",
       "2   1.28\n",
       "3   1.52\n",
       "4   1.78\n",
       "Name: Global E-Commerce Share(%), dtype: float64"
      ]
     },
     "execution_count": 211,
     "metadata": {},
     "output_type": "execute_result"
    }
   ],
   "source": [
    "# Calculate Global retail E-Commerce Sales vs Global GDP growth\n",
    "China_data_df[\"Global E-Commerce Share(%)\"] = China_data_df.iloc[:, 1] / China_data_df.iloc[:, 3] * 100\n",
    "China_data_df[\"Global E-Commerce Share(%)\"].head()"
   ]
  },
  {
   "cell_type": "code",
   "execution_count": 212,
   "metadata": {},
   "outputs": [
    {
     "data": {
      "text/html": [
       "<div>\n",
       "<style scoped>\n",
       "    .dataframe tbody tr th:only-of-type {\n",
       "        vertical-align: middle;\n",
       "    }\n",
       "\n",
       "    .dataframe tbody tr th {\n",
       "        vertical-align: top;\n",
       "    }\n",
       "\n",
       "    .dataframe thead th {\n",
       "        text-align: right;\n",
       "    }\n",
       "</style>\n",
       "<table border=\"1\" class=\"dataframe\">\n",
       "  <thead>\n",
       "    <tr style=\"text-align: right;\">\n",
       "      <th></th>\n",
       "      <th>Index</th>\n",
       "      <th>Global retail e-commerce sales (in billion $US dollars)</th>\n",
       "      <th>Month/Date</th>\n",
       "      <th>Global GDP (billion $US dollars)</th>\n",
       "      <th>Month/Date2</th>\n",
       "      <th>Global E-Commerce Share(%)</th>\n",
       "      <th>Month</th>\n",
       "      <th>Day</th>\n",
       "      <th>Year</th>\n",
       "    </tr>\n",
       "  </thead>\n",
       "  <tbody>\n",
       "    <tr>\n",
       "      <th>0</th>\n",
       "      <td>1</td>\n",
       "      <td>572</td>\n",
       "      <td>12/31/2010</td>\n",
       "      <td>66110</td>\n",
       "      <td>31-Dec</td>\n",
       "      <td>0.87</td>\n",
       "      <td>12</td>\n",
       "      <td>31</td>\n",
       "      <td>2010</td>\n",
       "    </tr>\n",
       "    <tr>\n",
       "      <th>1</th>\n",
       "      <td>2</td>\n",
       "      <td>680</td>\n",
       "      <td>12/31/2011</td>\n",
       "      <td>68190</td>\n",
       "      <td>31-Dec</td>\n",
       "      <td>1.00</td>\n",
       "      <td>12</td>\n",
       "      <td>31</td>\n",
       "      <td>2011</td>\n",
       "    </tr>\n",
       "    <tr>\n",
       "      <th>2</th>\n",
       "      <td>3</td>\n",
       "      <td>893</td>\n",
       "      <td>12/31/2012</td>\n",
       "      <td>69910</td>\n",
       "      <td>31-Dec</td>\n",
       "      <td>1.28</td>\n",
       "      <td>12</td>\n",
       "      <td>31</td>\n",
       "      <td>2012</td>\n",
       "    </tr>\n",
       "    <tr>\n",
       "      <th>3</th>\n",
       "      <td>4</td>\n",
       "      <td>1088</td>\n",
       "      <td>12/31/2013</td>\n",
       "      <td>71770</td>\n",
       "      <td>31-Dec</td>\n",
       "      <td>1.52</td>\n",
       "      <td>12</td>\n",
       "      <td>31</td>\n",
       "      <td>2013</td>\n",
       "    </tr>\n",
       "    <tr>\n",
       "      <th>4</th>\n",
       "      <td>5</td>\n",
       "      <td>1316</td>\n",
       "      <td>12/31/2014</td>\n",
       "      <td>73810</td>\n",
       "      <td>31-Dec</td>\n",
       "      <td>1.78</td>\n",
       "      <td>12</td>\n",
       "      <td>31</td>\n",
       "      <td>2014</td>\n",
       "    </tr>\n",
       "  </tbody>\n",
       "</table>\n",
       "</div>"
      ],
      "text/plain": [
       "   Index  Global retail e-commerce sales (in billion $US dollars)  Month/Date  \\\n",
       "0      1                                                572        12/31/2010   \n",
       "1      2                                                680        12/31/2011   \n",
       "2      3                                                893        12/31/2012   \n",
       "3      4                                               1088        12/31/2013   \n",
       "4      5                                               1316        12/31/2014   \n",
       "\n",
       "   Global GDP (billion $US dollars) Month/Date2  Global E-Commerce Share(%)  \\\n",
       "0                             66110      31-Dec                        0.87   \n",
       "1                             68190      31-Dec                        1.00   \n",
       "2                             69910      31-Dec                        1.28   \n",
       "3                             71770      31-Dec                        1.52   \n",
       "4                             73810      31-Dec                        1.78   \n",
       "\n",
       "  Month Day  Year  \n",
       "0    12  31  2010  \n",
       "1    12  31  2011  \n",
       "2    12  31  2012  \n",
       "3    12  31  2013  \n",
       "4    12  31  2014  "
      ]
     },
     "execution_count": 212,
     "metadata": {},
     "output_type": "execute_result"
    }
   ],
   "source": [
    "#Split M/D/Y into Years\n",
    "China_data_df[[\"Month\", \"Day\", \"Year\"]] = China_data_df[\"Month/Date\"].str.split(\"/\", expand=True)  \n",
    "China_data_df.head()"
   ]
  },
  {
   "cell_type": "code",
   "execution_count": 213,
   "metadata": {},
   "outputs": [
    {
     "data": {
      "image/png": "[encoded data removed]",
      "text/plain": [
       "<Figure size 1152x288 with 2 Axes>"
      ]
     },
     "metadata": {
      "needs_background": "light"
     },
     "output_type": "display_data"
    }
   ],
   "source": [
    "\n",
    "# Plot retail and e-commerce sales line charts for 10 years\n",
    "x_axis = China_data_df.loc[:, \"Month/Date\"]\n",
    "x_label = list(China_data_df.loc[:, \"Year\"].unique())\n",
    "x_label.insert(2010, 2030)\n",
    "\n",
    "y_axis_r = China_data_df.loc[:, \"Global GDP (billion $US dollars)\"]\n",
    "y_axis_e = China_data_df.loc[:, \"Global retail e-commerce sales (in billion $US dollars)\"]\n",
    "\n",
    "fig, (ax1, ax2) = plt.subplots(1, 2, figsize=(16, 4))\n",
    "\n",
    "ax1.plot(x_axis, y_axis_r, color = \"r\")\n",
    "ax1.set_title(\"Overall Retail Sales Trend in the US (Monthly)\")\n",
    "ax1.set_ylabel(\"Amount (mil$)\")\n",
    "ax1.set_xlim(x_axis.head(1), x_axis.tail(1))\n",
    "ax1.set_ylim(0, y_axis_r.max()*1.5)\n",
    "ax1.grid()\n",
    "ax1.fill_between(x_axis, y_axis_r, color = \"r\", alpha = 0.5)\n",
    "ax1.set_xticks(x_axis)\n",
    "\n",
    "ax1.xaxis.set_major_locator(MultipleLocator(12))\n",
    "ax1.set_xticklabels(x_label, minor = False)\n",
    "\n",
    "ax2.plot(x_axis, y_axis_e, color = \"b\")\n",
    "ax2.set_title(\"E-Commerce Sales Trend in the US (Monthly)\")\n",
    "ax2.set_ylabel(\"Amount (mil$)\")\n",
    "ax2.set_xlim(x_axis.head(1), x_axis.tail(1))\n",
    "ax2.set_ylim(0, y_axis_e.max()*1.5)\n",
    "ax2.grid()\n",
    "ax2.fill_between(x_axis, y_axis_e, color = \"b\", alpha = 0.5)\n",
    "ax2.xaxis.set_major_locator(MultipleLocator(12))\n",
    "ax2.set_xticklabels(x_label, minor = False)\n",
    "plt.show()"
   ]
  },
  {
   "cell_type": "code",
   "execution_count": 216,
   "metadata": {},
   "outputs": [
    {
     "data": {
      "image/png": "[encoded data removed]",
      "text/plain": [
       "<Figure size 936x288 with 1 Axes>"
      ]
     },
     "metadata": {
      "needs_background": "light"
     },
     "output_type": "display_data"
    }
   ],
   "source": [
    "ax = China_data_df.iloc[:, 5].plot(kind = \"bar\", width = 0.8, figsize=(13,4), color = \"r\", alpha = 0.75)\n",
    "x_label = China_data_df.iloc[:, 8]\n",
    "\n",
    "for p in ax.patches:\n",
    "    left, bottom, width, height = p.get_bbox().bounds\n",
    "    ax.annotate(str(round(height, 2))+\"%\", (left+width/2, height/2), ha='center', color = \"white\")\n",
    "\n",
    "plt.title(\"Annual Global E-Commerce Share of GDP\")\n",
    "plt.ylabel(\"(%)\")\n",
    "ax.set_xticklabels(x_label, rotation = 0)\n",
    "plt.savefig('Annual Global E-Commerce Share of GDP')\n",
    "plt.show()"
   ]
  },
  {
   "cell_type": "code",
   "execution_count": 12,
   "metadata": {},
   "outputs": [
    {
     "data": {
      "text/plain": [
       "<matplotlib.axes._subplots.AxesSubplot at 0x18fa783f6c8>"
      ]
     },
     "execution_count": 12,
     "metadata": {},
     "output_type": "execute_result"
    },
    {
     "data": {
      "image/png": "[encoded data removed]",
      "text/plain": [
       "<Figure size 360x288 with 1 Axes>"
      ]
     },
     "metadata": {
      "needs_background": "light"
     },
     "output_type": "display_data"
    }
   ],
   "source": [
    "China_data_df2 = China_data_df.sample(n=100, random_state=100, axis=0)\n",
    "plt.xlabel=('Date')\n",
    "plt.ylabel=('Online Retail Sales Accumulated($US)')\n",
    "\n",
    "plt.title=('China Ecommerce Trends')\n",
    "China_data_df2['Online Retail Sales Accumulated($US)'].plot()"
   ]
  },
  {
   "cell_type": "code",
   "execution_count": 13,
   "metadata": {},
   "outputs": [
    {
     "data": {
      "text/plain": [
       "<matplotlib.axes._subplots.AxesSubplot at 0x18fa791a6c8>"
      ]
     },
     "execution_count": 13,
     "metadata": {},
     "output_type": "execute_result"
    },
    {
     "data": {
      "image/png": "[encoded data removed]",
      "text/plain": [
       "<Figure size 360x288 with 1 Axes>"
      ]
     },
     "metadata": {
      "needs_background": "light"
     },
     "output_type": "display_data"
    }
   ],
   "source": [
    "China_data_df3 = China_data_df.sample(n=100, random_state=120, axis=0)\n",
    "plt.xlabel=('Date')\n",
    "plt.ylabel=('Online Retail Sales in Goods Accumulated($US)')\n",
    "\n",
    "plt.title=('China Ecommerce Trends')\n",
    "China_data_df3['Online Retail Sales in Goods Accumulated($US)'].plot()"
   ]
  },
  {
   "cell_type": "code",
   "execution_count": 14,
   "metadata": {},
   "outputs": [
    {
     "data": {
      "text/plain": [
       "<matplotlib.axes._subplots.AxesSubplot at 0x18fa7951ec8>"
      ]
     },
     "execution_count": 14,
     "metadata": {},
     "output_type": "execute_result"
    },
    {
     "data": {
      "image/png": "[encoded data removed]",
      "text/plain": [
       "<Figure size 360x288 with 1 Axes>"
      ]
     },
     "metadata": {
      "needs_background": "light"
     },
     "output_type": "display_data"
    }
   ],
   "source": [
    "China_data_df4 = China_data_df.sample(n=100, random_state=120, axis=0)\n",
    "plt.xlabel=('Date')\n",
    "plt.ylabel=('Total Retail Sales of Consumer Goods Current Period($US)')\n",
    "\n",
    "plt.title=('China Ecommerce Trends')\n",
    "China_data_df3['Total Retail Sales of Consumer Goods Current Period($US)'].plot()"
   ]
  },
  {
   "cell_type": "code",
   "execution_count": 27,
   "metadata": {},
   "outputs": [
    {
     "data": {
      "text/plain": [
       "DatetimeIndex(['2020-06-20', '2020-05-20', '2020-04-20', '2020-03-20',\n",
       "               '2020-02-20', '2020-12-19', '2020-11-19', '2020-10-19',\n",
       "               '2020-09-19', '2020-08-19',\n",
       "               ...\n",
       "               '2020-10-10', '2020-09-10', '2020-08-10', '2020-07-10',\n",
       "               '2020-06-10', '2020-05-10', '2020-04-10', '2020-03-10',\n",
       "               '2020-02-10', '2020-01-10'],\n",
       "              dtype='datetime64[ns]', name='Date', length=117, freq=None)"
      ]
     },
     "execution_count": 27,
     "metadata": {},
     "output_type": "execute_result"
    }
   ],
   "source": [
    "China_data_df.index"
   ]
  },
  {
   "cell_type": "code",
   "execution_count": 15,
   "metadata": {},
   "outputs": [
    {
     "data": {
      "text/plain": [
       "<matplotlib.collections.PathCollection at 0x18fa7a249c8>"
      ]
     },
     "execution_count": 15,
     "metadata": {},
     "output_type": "execute_result"
    },
    {
     "data": {
      "image/png": "[encoded data removed]",
      "text/plain": [
       "<Figure size 1080x1080 with 1 Axes>"
      ]
     },
     "metadata": {
      "needs_background": "light"
     },
     "output_type": "display_data"
    }
   ],
   "source": [
    "#plot figure\n",
    "fig, ax = plt.subplots(figsize=(15,15))\n",
    "\n",
    "#Add x-axis and y-axis\n",
    "ax.scatter(China_data_df.index.values, China_data_df['Online Retail Sales in Goods Accumulated($US)'])"
   ]
  },
  {
   "cell_type": "code",
   "execution_count": null,
   "metadata": {},
   "outputs": [],
   "source": [
    "#Convert China Monthly Data into Annual Data using bin groups \n",
    "# Create the bins in which Data will be held\n",
    "bins = [0, 1, 2, 3, 4, 5, 6, 7, 8, 9, 10, 11]\n",
    "\n",
    "# Create the names for the five bins\n",
    "China_Annual_Data = [\"2010\", \"2011\", \"2012\", \"2013\", \"2014\", \"2015\", \"2016\", \"2017\", \"2018\", \"2019\", \"2020\"]\n",
    "#China_Annual_Data\n",
    "\n",
    "China_data_df_mo[\"Annual Data Summary\"] = pd.cut(China_data_df_mo[\"Binning group#\"], bins, labels=China_Annual_Data)\n",
    "China_data_df_mo"
   ]
  },
  {
   "cell_type": "code",
   "execution_count": null,
   "metadata": {},
   "outputs": [],
   "source": [
    "#Group German Date into Annual format to merge with China file on Date\n",
    "# Create the bins in which Data will be held\n",
    "bins = [0, 2, 3, 4, 5, 6, 7, 8, 9, 10, 11, 12, 13, 14, 15, 16]\n",
    "\n",
    "# Create the names for the  bins\n",
    "German_annual_data = [\"2011\", \"2012\", \"2013\", \"2014\", \"2015\", \"2016\", \"2017\", \"2018\", \"2019\", \"2020\", \"2021\", \"2022\", \"2023\", \"2024\", \"2025\"]\n",
    "German_annual_data\n",
    "\n",
    "German_results_df[\"Annual Data Summary\"] = pd.cut(German_results_df[\"Bin Group#\"], bins, labels=German_annual_data)\n",
    "#German_results_df\n",
    "\n",
    "# Creating a group based off of the bins\n",
    "df2= German_results_df.groupby(\"Annual Data Summary\")\n",
    "df2.max()"
   ]
  },
  {
   "cell_type": "code",
   "execution_count": null,
   "metadata": {},
   "outputs": [],
   "source": [
    "#Merge 2 files on Annual Data Summary field for summary stats and graphing/plotting\n",
    "df['Annual Data Summary'].value_counts()\n",
    "df2['Annual Data Summary'].value_counts()\n",
    "df = pd.concat([df2], axis=1) merge(`df2`)"
   ]
  }
 ],
 "metadata": {
  "anaconda-cloud": {},
  "kernelspec": {
   "display_name": "Python 3",
   "language": "python",
   "name": "python3"
  },
  "language_info": {
   "codemirror_mode": {
    "name": "ipython",
    "version": 3
   },
   "file_extension": ".py",
   "mimetype": "text/x-python",
   "name": "python",
   "nbconvert_exporter": "python",
   "pygments_lexer": "ipython3",
   "version": "3.7.6"
  }
 },
 "nbformat": 4,
 "nbformat_minor": 2
}
