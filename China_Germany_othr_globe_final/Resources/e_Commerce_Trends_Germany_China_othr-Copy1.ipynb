{
 "cells": [
  {
   "cell_type": "code",
   "execution_count": null,
   "metadata": {},
   "outputs": [],
   "source": [
    "%matplotlib notebook"
   ]
  },
  {
   "cell_type": "code",
   "execution_count": 1,
   "metadata": {},
   "outputs": [],
   "source": [
    "# Import Dependencies Libraries\n",
    "import os\n",
    "import matplotlib.pyplot as plt\n",
    "import pandas as pd\n",
    "import scipy.stats as st\n",
    "import numpy as np\n",
    "import seaborn as sns\n",
    "from pylab import rcParams\n",
    "from pandas import Series\n",
    "import datetime\n",
    "from scipy.stats import linregress\n",
    "from sklearn import datasets"
   ]
  },
  {
   "cell_type": "code",
   "execution_count": 2,
   "metadata": {},
   "outputs": [],
   "source": [
    "%matplotlib inline\n",
    "from pandas.plotting import register_matplotlib_converters\n",
    "register_matplotlib_converters()"
   ]
  },
  {
   "cell_type": "code",
   "execution_count": 3,
   "metadata": {},
   "outputs": [],
   "source": [
    "sns.set(font_scale=1.5, style=\"whitegrid\")"
   ]
  },
  {
   "cell_type": "code",
   "execution_count": 4,
   "metadata": {
    "scrolled": false
   },
   "outputs": [
    {
     "ename": "FileNotFoundError",
     "evalue": "[Errno 2] File china.csv does not exist: 'china.csv'",
     "output_type": "error",
     "traceback": [
      "\u001b[1;31m---------------------------------------------------------------------------\u001b[0m",
      "\u001b[1;31mFileNotFoundError\u001b[0m                         Traceback (most recent call last)",
      "\u001b[1;32m<ipython-input-4-c0069b67cdd8>\u001b[0m in \u001b[0;36m<module>\u001b[1;34m\u001b[0m\n\u001b[0;32m      1\u001b[0m \u001b[1;31m#Read in the China Data CSV to Dataframe\u001b[0m\u001b[1;33m\u001b[0m\u001b[1;33m\u001b[0m\u001b[1;33m\u001b[0m\u001b[0m\n\u001b[0;32m      2\u001b[0m \u001b[1;32mfrom\u001b[0m \u001b[0mpandas\u001b[0m \u001b[1;32mimport\u001b[0m \u001b[0mread_csv\u001b[0m\u001b[1;33m\u001b[0m\u001b[1;33m\u001b[0m\u001b[0m\n\u001b[1;32m----> 3\u001b[1;33m \u001b[0mChina_data_df_mo\u001b[0m \u001b[1;33m=\u001b[0m \u001b[0mread_csv\u001b[0m\u001b[1;33m(\u001b[0m\u001b[1;34m'china.csv'\u001b[0m\u001b[1;33m,\u001b[0m \u001b[0mheader\u001b[0m\u001b[1;33m=\u001b[0m\u001b[1;36m0\u001b[0m\u001b[1;33m,\u001b[0m \u001b[0mparse_dates\u001b[0m\u001b[1;33m=\u001b[0m\u001b[1;33m[\u001b[0m\u001b[1;36m0\u001b[0m\u001b[1;33m]\u001b[0m\u001b[1;33m,\u001b[0m \u001b[0mindex_col\u001b[0m\u001b[1;33m=\u001b[0m\u001b[1;36m0\u001b[0m\u001b[1;33m,\u001b[0m \u001b[0msqueeze\u001b[0m\u001b[1;33m=\u001b[0m\u001b[1;32mTrue\u001b[0m\u001b[1;33m)\u001b[0m\u001b[1;33m\u001b[0m\u001b[1;33m\u001b[0m\u001b[0m\n\u001b[0m\u001b[0;32m      4\u001b[0m \u001b[1;31m#Split the Date column into Year to Merge on Year\u001b[0m\u001b[1;33m\u001b[0m\u001b[1;33m\u001b[0m\u001b[1;33m\u001b[0m\u001b[0m\n\u001b[0;32m      5\u001b[0m \u001b[0mChina_data_df_mo\u001b[0m\u001b[1;33m[\u001b[0m\u001b[1;33m[\u001b[0m\u001b[1;34m\"Month\"\u001b[0m\u001b[1;33m,\u001b[0m \u001b[1;34m\"Day\"\u001b[0m\u001b[1;33m,\u001b[0m \u001b[1;34m\"Year\"\u001b[0m\u001b[1;33m]\u001b[0m\u001b[1;33m]\u001b[0m \u001b[1;33m=\u001b[0m \u001b[0mChina_data_df_mo\u001b[0m\u001b[1;33m[\u001b[0m\u001b[1;34m\"Month/Date\"\u001b[0m\u001b[1;33m]\u001b[0m\u001b[1;33m.\u001b[0m\u001b[0mstr\u001b[0m\u001b[1;33m.\u001b[0m\u001b[0msplit\u001b[0m\u001b[1;33m(\u001b[0m\u001b[1;34m\"/\"\u001b[0m\u001b[1;33m,\u001b[0m \u001b[0mexpand\u001b[0m\u001b[1;33m=\u001b[0m\u001b[1;32mTrue\u001b[0m\u001b[1;33m)\u001b[0m\u001b[1;33m\u001b[0m\u001b[1;33m\u001b[0m\u001b[0m\n",
      "\u001b[1;32m~\\anaconda3\\lib\\site-packages\\pandas\\io\\parsers.py\u001b[0m in \u001b[0;36mparser_f\u001b[1;34m(filepath_or_buffer, sep, delimiter, header, names, index_col, usecols, squeeze, prefix, mangle_dupe_cols, dtype, engine, converters, true_values, false_values, skipinitialspace, skiprows, skipfooter, nrows, na_values, keep_default_na, na_filter, verbose, skip_blank_lines, parse_dates, infer_datetime_format, keep_date_col, date_parser, dayfirst, cache_dates, iterator, chunksize, compression, thousands, decimal, lineterminator, quotechar, quoting, doublequote, escapechar, comment, encoding, dialect, error_bad_lines, warn_bad_lines, delim_whitespace, low_memory, memory_map, float_precision)\u001b[0m\n\u001b[0;32m    674\u001b[0m         )\n\u001b[0;32m    675\u001b[0m \u001b[1;33m\u001b[0m\u001b[0m\n\u001b[1;32m--> 676\u001b[1;33m         \u001b[1;32mreturn\u001b[0m \u001b[0m_read\u001b[0m\u001b[1;33m(\u001b[0m\u001b[0mfilepath_or_buffer\u001b[0m\u001b[1;33m,\u001b[0m \u001b[0mkwds\u001b[0m\u001b[1;33m)\u001b[0m\u001b[1;33m\u001b[0m\u001b[1;33m\u001b[0m\u001b[0m\n\u001b[0m\u001b[0;32m    677\u001b[0m \u001b[1;33m\u001b[0m\u001b[0m\n\u001b[0;32m    678\u001b[0m     \u001b[0mparser_f\u001b[0m\u001b[1;33m.\u001b[0m\u001b[0m__name__\u001b[0m \u001b[1;33m=\u001b[0m \u001b[0mname\u001b[0m\u001b[1;33m\u001b[0m\u001b[1;33m\u001b[0m\u001b[0m\n",
      "\u001b[1;32m~\\anaconda3\\lib\\site-packages\\pandas\\io\\parsers.py\u001b[0m in \u001b[0;36m_read\u001b[1;34m(filepath_or_buffer, kwds)\u001b[0m\n\u001b[0;32m    446\u001b[0m \u001b[1;33m\u001b[0m\u001b[0m\n\u001b[0;32m    447\u001b[0m     \u001b[1;31m# Create the parser.\u001b[0m\u001b[1;33m\u001b[0m\u001b[1;33m\u001b[0m\u001b[1;33m\u001b[0m\u001b[0m\n\u001b[1;32m--> 448\u001b[1;33m     \u001b[0mparser\u001b[0m \u001b[1;33m=\u001b[0m \u001b[0mTextFileReader\u001b[0m\u001b[1;33m(\u001b[0m\u001b[0mfp_or_buf\u001b[0m\u001b[1;33m,\u001b[0m \u001b[1;33m**\u001b[0m\u001b[0mkwds\u001b[0m\u001b[1;33m)\u001b[0m\u001b[1;33m\u001b[0m\u001b[1;33m\u001b[0m\u001b[0m\n\u001b[0m\u001b[0;32m    449\u001b[0m \u001b[1;33m\u001b[0m\u001b[0m\n\u001b[0;32m    450\u001b[0m     \u001b[1;32mif\u001b[0m \u001b[0mchunksize\u001b[0m \u001b[1;32mor\u001b[0m \u001b[0miterator\u001b[0m\u001b[1;33m:\u001b[0m\u001b[1;33m\u001b[0m\u001b[1;33m\u001b[0m\u001b[0m\n",
      "\u001b[1;32m~\\anaconda3\\lib\\site-packages\\pandas\\io\\parsers.py\u001b[0m in \u001b[0;36m__init__\u001b[1;34m(self, f, engine, **kwds)\u001b[0m\n\u001b[0;32m    878\u001b[0m             \u001b[0mself\u001b[0m\u001b[1;33m.\u001b[0m\u001b[0moptions\u001b[0m\u001b[1;33m[\u001b[0m\u001b[1;34m\"has_index_names\"\u001b[0m\u001b[1;33m]\u001b[0m \u001b[1;33m=\u001b[0m \u001b[0mkwds\u001b[0m\u001b[1;33m[\u001b[0m\u001b[1;34m\"has_index_names\"\u001b[0m\u001b[1;33m]\u001b[0m\u001b[1;33m\u001b[0m\u001b[1;33m\u001b[0m\u001b[0m\n\u001b[0;32m    879\u001b[0m \u001b[1;33m\u001b[0m\u001b[0m\n\u001b[1;32m--> 880\u001b[1;33m         \u001b[0mself\u001b[0m\u001b[1;33m.\u001b[0m\u001b[0m_make_engine\u001b[0m\u001b[1;33m(\u001b[0m\u001b[0mself\u001b[0m\u001b[1;33m.\u001b[0m\u001b[0mengine\u001b[0m\u001b[1;33m)\u001b[0m\u001b[1;33m\u001b[0m\u001b[1;33m\u001b[0m\u001b[0m\n\u001b[0m\u001b[0;32m    881\u001b[0m \u001b[1;33m\u001b[0m\u001b[0m\n\u001b[0;32m    882\u001b[0m     \u001b[1;32mdef\u001b[0m \u001b[0mclose\u001b[0m\u001b[1;33m(\u001b[0m\u001b[0mself\u001b[0m\u001b[1;33m)\u001b[0m\u001b[1;33m:\u001b[0m\u001b[1;33m\u001b[0m\u001b[1;33m\u001b[0m\u001b[0m\n",
      "\u001b[1;32m~\\anaconda3\\lib\\site-packages\\pandas\\io\\parsers.py\u001b[0m in \u001b[0;36m_make_engine\u001b[1;34m(self, engine)\u001b[0m\n\u001b[0;32m   1112\u001b[0m     \u001b[1;32mdef\u001b[0m \u001b[0m_make_engine\u001b[0m\u001b[1;33m(\u001b[0m\u001b[0mself\u001b[0m\u001b[1;33m,\u001b[0m \u001b[0mengine\u001b[0m\u001b[1;33m=\u001b[0m\u001b[1;34m\"c\"\u001b[0m\u001b[1;33m)\u001b[0m\u001b[1;33m:\u001b[0m\u001b[1;33m\u001b[0m\u001b[1;33m\u001b[0m\u001b[0m\n\u001b[0;32m   1113\u001b[0m         \u001b[1;32mif\u001b[0m \u001b[0mengine\u001b[0m \u001b[1;33m==\u001b[0m \u001b[1;34m\"c\"\u001b[0m\u001b[1;33m:\u001b[0m\u001b[1;33m\u001b[0m\u001b[1;33m\u001b[0m\u001b[0m\n\u001b[1;32m-> 1114\u001b[1;33m             \u001b[0mself\u001b[0m\u001b[1;33m.\u001b[0m\u001b[0m_engine\u001b[0m \u001b[1;33m=\u001b[0m \u001b[0mCParserWrapper\u001b[0m\u001b[1;33m(\u001b[0m\u001b[0mself\u001b[0m\u001b[1;33m.\u001b[0m\u001b[0mf\u001b[0m\u001b[1;33m,\u001b[0m \u001b[1;33m**\u001b[0m\u001b[0mself\u001b[0m\u001b[1;33m.\u001b[0m\u001b[0moptions\u001b[0m\u001b[1;33m)\u001b[0m\u001b[1;33m\u001b[0m\u001b[1;33m\u001b[0m\u001b[0m\n\u001b[0m\u001b[0;32m   1115\u001b[0m         \u001b[1;32melse\u001b[0m\u001b[1;33m:\u001b[0m\u001b[1;33m\u001b[0m\u001b[1;33m\u001b[0m\u001b[0m\n\u001b[0;32m   1116\u001b[0m             \u001b[1;32mif\u001b[0m \u001b[0mengine\u001b[0m \u001b[1;33m==\u001b[0m \u001b[1;34m\"python\"\u001b[0m\u001b[1;33m:\u001b[0m\u001b[1;33m\u001b[0m\u001b[1;33m\u001b[0m\u001b[0m\n",
      "\u001b[1;32m~\\anaconda3\\lib\\site-packages\\pandas\\io\\parsers.py\u001b[0m in \u001b[0;36m__init__\u001b[1;34m(self, src, **kwds)\u001b[0m\n\u001b[0;32m   1889\u001b[0m         \u001b[0mkwds\u001b[0m\u001b[1;33m[\u001b[0m\u001b[1;34m\"usecols\"\u001b[0m\u001b[1;33m]\u001b[0m \u001b[1;33m=\u001b[0m \u001b[0mself\u001b[0m\u001b[1;33m.\u001b[0m\u001b[0musecols\u001b[0m\u001b[1;33m\u001b[0m\u001b[1;33m\u001b[0m\u001b[0m\n\u001b[0;32m   1890\u001b[0m \u001b[1;33m\u001b[0m\u001b[0m\n\u001b[1;32m-> 1891\u001b[1;33m         \u001b[0mself\u001b[0m\u001b[1;33m.\u001b[0m\u001b[0m_reader\u001b[0m \u001b[1;33m=\u001b[0m \u001b[0mparsers\u001b[0m\u001b[1;33m.\u001b[0m\u001b[0mTextReader\u001b[0m\u001b[1;33m(\u001b[0m\u001b[0msrc\u001b[0m\u001b[1;33m,\u001b[0m \u001b[1;33m**\u001b[0m\u001b[0mkwds\u001b[0m\u001b[1;33m)\u001b[0m\u001b[1;33m\u001b[0m\u001b[1;33m\u001b[0m\u001b[0m\n\u001b[0m\u001b[0;32m   1892\u001b[0m         \u001b[0mself\u001b[0m\u001b[1;33m.\u001b[0m\u001b[0munnamed_cols\u001b[0m \u001b[1;33m=\u001b[0m \u001b[0mself\u001b[0m\u001b[1;33m.\u001b[0m\u001b[0m_reader\u001b[0m\u001b[1;33m.\u001b[0m\u001b[0munnamed_cols\u001b[0m\u001b[1;33m\u001b[0m\u001b[1;33m\u001b[0m\u001b[0m\n\u001b[0;32m   1893\u001b[0m \u001b[1;33m\u001b[0m\u001b[0m\n",
      "\u001b[1;32mpandas\\_libs\\parsers.pyx\u001b[0m in \u001b[0;36mpandas._libs.parsers.TextReader.__cinit__\u001b[1;34m()\u001b[0m\n",
      "\u001b[1;32mpandas\\_libs\\parsers.pyx\u001b[0m in \u001b[0;36mpandas._libs.parsers.TextReader._setup_parser_source\u001b[1;34m()\u001b[0m\n",
      "\u001b[1;31mFileNotFoundError\u001b[0m: [Errno 2] File china.csv does not exist: 'china.csv'"
     ]
    }
   ],
   "source": [
    "#Read in the China Data CSV to Dataframe\n",
    "from pandas import read_csv\n",
    "China_data_df_mo = read_csv('china.csv', header=0, parse_dates=[0], index_col=0, squeeze=True)\n",
    "#Split the Date column into Year to Merge on Year\n",
    "China_data_df_mo[[\"Month\", \"Day\", \"Year\"]] = China_data_df_mo[\"Month/Date\"].str.split(\"/\", expand=True)  \n",
    "China_data_df_mo"
   ]
  },
  {
   "cell_type": "code",
   "execution_count": null,
   "metadata": {},
   "outputs": [],
   "source": [
    "#Read in Germany_Global Data\n",
    "German_results_df = read_csv('Germany_glob.csv')\n",
    "#German_results_df\n",
    "\n",
    "German_results_df[[\"Month\", \"Day\", \"Year\"]] = German_results_df[\"Month/Date\"].str.split(\"/\", expand=True)  \n",
    "German_results_df"
   ]
  },
  {
   "cell_type": "code",
   "execution_count": null,
   "metadata": {},
   "outputs": [],
   "source": [
    "# Combine the data into a single dataset - outer to display all rows both df\n",
    "combined_data = pd.merge(China_data_df_mo, German_results_df, how=\"outer\", on = \"Year\")\n",
    "combined_data"
   ]
  },
  {
   "cell_type": "code",
   "execution_count": null,
   "metadata": {},
   "outputs": [],
   "source": [
    "# Remove unecessary columns from the DataFrame and save the new DataFrame\n",
    "reduced_df = combined_data[[\"Year\", \"China -Online Retail Sales Accumulated(in billion $US dollars)_x\", \"China - Total Retail Sales of Consumer Goods Current Period(in billion $US dollars)_x\",\n",
    "                       \"Germany B2C e_Commerce sales (in billion $US dollars)\", \"Global retail e-commerce sales (in billion $US dollars)\", \"US Retail e-commerce sales (billion $US dollars)\", \"Binning group#\"]]\n",
    "reduced_df"
   ]
  },
  {
   "cell_type": "code",
   "execution_count": null,
   "metadata": {},
   "outputs": [],
   "source": [
    "#Create summary table grouping monthly China data into Years\n",
    "summarystats = pd.DataFrame(reduced_df.groupby(\"Year\").count())\n",
    "summarystats"
   ]
  },
  {
   "cell_type": "code",
   "execution_count": null,
   "metadata": {},
   "outputs": [],
   "source": [
    "#Use groupby to create summary stats based on year; add results into columns in summary table\n",
    "summarystats[\"Mean\"] = pd.DataFrame(combined_data.groupby(\"Year\")[\"China -Online Retail Sales Accumulated(in billion $US dollars)_x\"].mean())\n",
    "summarystats[\"Median\"] = pd.DataFrame(combined_data.groupby(\"Year\")[\"China -Online Retail Sales Accumulated(in billion $US dollars)_x\"].median())\n",
    "summarystats[\"Standard Deviation\"] = pd.DataFrame(combined_data.groupby(\"Year\")[\"China -Online Retail Sales Accumulated(in billion $US dollars)_x\"].std())\n",
    "summarystats[\"Variance\"] = pd.DataFrame(combined_data.groupby(\"Year\")[\"China -Online Retail Sales Accumulated(in billion $US dollars)_x\"].var())\n",
    "summarystats[\"SEM\"] = pd.DataFrame(combined_data.groupby(\"Year\")[\"China -Online Retail Sales Accumulated(in billion $US dollars)_x\"].sem())\n",
    "summarystats\n",
    "\n",
    "#Display 5 summarystats (mean, median, stand dev, var, SEM and keep Year column\n",
    "summarystats = summarystats[[\"Binning group#\", \"Mean\", \"Median\", \"Standard Deviation\", \"Variance\", \"SEM\"]]\n",
    "summarystats"
   ]
  },
  {
   "cell_type": "code",
   "execution_count": null,
   "metadata": {},
   "outputs": [],
   "source": [
    "# Generate a bar plot showing the total China retail sales (data avail 2017-2019) \n",
    "China_Online_Retail_Sales = summarystats[[\"Mean\"]]\n",
    "China_Online_Retail_Sales.head"
   ]
  },
  {
   "cell_type": "code",
   "execution_count": null,
   "metadata": {},
   "outputs": [],
   "source": [
    "#Create a bar chart of the data\n",
    "China_Online_Retail_Sales.plot(kind=\"bar\", figsize=(6,4), color = \"r\", legend=False)\n",
    "\n",
    "# Set a title for the chart\n",
    "plt.title(\"China -Online Retail Sales Accumulated(in billion $US dollars)\")\n",
    "\n",
    "plt.show()\n",
    "plt.savefig('China Online Retail Sales 2018 - 2020')\n",
    "plt.tight_layout()"
   ]
  },
  {
   "cell_type": "code",
   "execution_count": null,
   "metadata": {
    "scrolled": true
   },
   "outputs": [],
   "source": [
    "summarystats2 = pd.DataFrame(reduced_df.groupby(\"Year\").count())\n",
    "#summarystats2"
   ]
  },
  {
   "cell_type": "code",
   "execution_count": null,
   "metadata": {},
   "outputs": [],
   "source": [
    "#Use groupby to create summary stats based on year; add results into columns in summary table\n",
    "summarystats2[\"Mean\"] = pd.DataFrame(combined_data.groupby(\"Year\")[\"China - Total Retail Sales of Consumer Goods Accumulated (in billion $US dollars)\"].mean())\n",
    "summarystats2"
   ]
  },
  {
   "cell_type": "code",
   "execution_count": null,
   "metadata": {},
   "outputs": [],
   "source": [
    "China_Retail_Sales = summarystats2[[\"Mean\"]]\n",
    "#China_Retail_Sales\n",
    "\n",
    "#Create a bar chart of the data\n",
    "China_Retail_Sales.plot(kind=\"bar\", figsize=(6,4), color = \"r\", legend=False)\n",
    "\n",
    "# Set a title for the chart\n",
    "plt.title(\"China - Total Retail Sales Consumer Goods Accumulated(in billion $US dollars)\")\n",
    "\n",
    "plt.show()\n",
    "plt.savefig('China Total Retails Sales 2011 - 2020')\n",
    "plt.tight_layout()"
   ]
  },
  {
   "cell_type": "code",
   "execution_count": null,
   "metadata": {},
   "outputs": [],
   "source": [
    "#Create overlay bar chart of China retail and e-commerce sales\n",
    "#Create variables for chart\n",
    "German_results_df.head()"
   ]
  },
  {
   "cell_type": "code",
   "execution_count": null,
   "metadata": {},
   "outputs": [],
   "source": [
    "Year = German_results_df[\"Year\"]\n",
    "China_Online_Retail_Yr = German_results_df[\"China -Online Retail Sales Accumulated(in billion $US dollars)\"]\n",
    "China_Total_Retail_Yr = German_results_df[\"China - Total Retail Sales of Consumer Goods Current Period(in billion $US dollars)\"]"
   ]
  },
  {
   "cell_type": "code",
   "execution_count": null,
   "metadata": {
    "scrolled": true
   },
   "outputs": [],
   "source": [
    "plt.barh(Year, China_Online_Retail_Yr, color=\"b\", alpha=.50, align=\"center\")\n",
    "plt.barh(Year, China_Total_Retail_Yr, left=China_Online_Retail_Yr, color=\"g\", alpha=.50, align=\"center\")\n",
    "# Set a title for the chart\n",
    "plt.title(\"China Online to Total Retails Sales 2010 - 2020 overlay\")\n",
    "plt.savefig('China Online to Total Retails Sales 2010 - 2020')"
   ]
  },
  {
   "cell_type": "code",
   "execution_count": null,
   "metadata": {},
   "outputs": [],
   "source": [
    "Globe_df = read_csv('global.csv', header=0, parse_dates=[0], index_col=0, squeeze=False)\n",
    "Globe_df\n",
    "\n",
    "Globe_df[[\"Month\", \"Day\", \"Year\"]] = Globe_df[\"Month/Date\"].str.split(\"/\", expand=True)  \n",
    "Globe_df\n",
    "\n",
    "# Remove unecessary columns from the DataFrame and save the new DataFrame\n",
    "reduced_df2 = Globe_df[[\"Year\", \"Global GDP (billion $US dollars)\", \"Global retail e-commerce sales (in billion $US dollars)\"]]\n",
    "reduced_df2.head()"
   ]
  },
  {
   "cell_type": "code",
   "execution_count": null,
   "metadata": {
    "scrolled": true
   },
   "outputs": [],
   "source": [
    "#plot figure\n",
    "fig, ax = plt.subplots(figsize=(10,10))\n",
    "\n",
    "#Add x-axis and y-axis\n",
    "ax.scatter(combined_data.index.values, combined_data['China - Total Retail Sales of Consumer Goods Growth Rate (The same period last year=100)(%)'])\n",
    "plt.savefig('China - Total Retail Sales of Consumer Goods Growth Rate')"
   ]
  },
  {
   "cell_type": "code",
   "execution_count": null,
   "metadata": {},
   "outputs": [],
   "source": [
    "# Generate a scatter plot of Global e-commerce Sales versus Global GDP growth\n",
    "plt.scatter(German_results_df.iloc[:,3],German_results_df.iloc[:,7])\n",
    "plt.xlabel('Global e-commerce retail (billion $US)')\n",
    "plt.ylabel('Global GDP (billion $US)')\n",
    "plt.show()\n",
    "plt.savefig('Global e-Commerce Sales vs Global GDP 2011 - 2022')"
   ]
  },
  {
   "cell_type": "code",
   "execution_count": null,
   "metadata": {},
   "outputs": [],
   "source": [
    "# Plot our line that will be used to visualize German B2C e_Commerce_Sales\n",
    "#create variable\n",
    "German_B2C_eSales= German_results_df[\"Germany B2C e_Commerce sales (in billion $US dollars)\"]\n",
    "\n",
    "# Plot our line that will be used to track Global GDP over the years\n",
    "plt.plot(Year, Global_GDP, color=\"b\", label=\"GDP_$ billion $US\")\n",
    "\n",
    "# Place a legend on the chart in what matplotlib believes to be the \"best\" location\n",
    "plt.legend(loc=\"best\")\n",
    "\n",
    "plt.title(\"German B2C e_Commerce 2010-2021P\")\n",
    "plt.xlabel(\"Years\")\n",
    "plt.ylabel(\"in billion $US dollars\")\n",
    "# Print our chart to the screen\n",
    "plt.show()\n",
    "plt.savefig('German B2C e_Commerce 2010-2021')"
   ]
  },
  {
   "cell_type": "code",
   "execution_count": null,
   "metadata": {},
   "outputs": [],
   "source": [
    "#Create variable\n",
    "Global_GDP= German_results_df[\"Global GDP (billion $US dollars)\"]\n",
    "\n",
    "# Plot our line that will be used to track Global GDP over the years\n",
    "plt.plot(Year, Global_GDP, color=\"g\", label=\"GDP_$ billion $US\")\n",
    "\n",
    "# Place a legend on the chart in what matplotlib believes to be the \"best\" location\n",
    "plt.legend(loc=\"best\")\n",
    "\n",
    "plt.title(\"Global GDP\")\n",
    "plt.xlabel(\"Years\")\n",
    "plt.ylabel(\"Global GDP\")\n",
    "# Print our chart to the screen\n",
    "plt.show()\n",
    "plt.savefig('Global Global GDP 201- - 2021')"
   ]
  },
  {
   "cell_type": "code",
   "execution_count": null,
   "metadata": {},
   "outputs": [],
   "source": [
    "# Plot out Global retail trends\n",
    "#plot figure\n",
    "fig, ax = plt.subplots(figsize=(10,10))\n",
    "\n",
    "#Add x-axis and y-axis\n",
    "ax.scatter(Globe_df.index.values, Globe_df['Global retail e-commerce sales (in billion $US dollars)'])\n",
    "plt.savefig('Global e_Commerce Sales trends 2010-2024')"
   ]
  },
  {
   "cell_type": "code",
   "execution_count": null,
   "metadata": {},
   "outputs": [],
   "source": [
    "# Add the linear regression equation and line to plot\n",
    "Years = [2010,2011,2012,2013,2014,2015,2016,2017,2018,2019,2020,2021]\n",
    "x_values = German_B2C_eSales[\"Years\"]\n",
    "y_values = Global_GDP[\"Years\"]\n",
    "\n",
    "# Perform a linear regression on mouse weight and tumor volume\n",
    "slope, int, r, p, std_err = st.linregress(German_B2C_eSales, Global_GDP)\n",
    "\n",
    "# Create equation of line to calculate mouse weight\n",
    "fit = slope * German_B2C_eSales, Global_GDP + int\n",
    "\n",
    "# Plot the linear model on top of scatter plot \n",
    "plt.scatter(German_B2C_eSales,Global_GDP)\n",
    "plt.xlabel(\"in billions $US\")\n",
    "plt.ylabel(\"in billions $US\")\n",
    "plt.plot(German_B2C_eSales,fit,\"--\")\n",
    "plt.xticks(German_B2C_eSales, rotation=90)\n",
    "plt.show()\n",
    "\n",
    "# Caculate correlation coefficient\n",
    "corr = round(st.pearsonr(German_B2C_eSales, Global_GDP)[0],2)\n",
    "plt.show()"
   ]
  },
  {
   "cell_type": "code",
   "execution_count": null,
   "metadata": {},
   "outputs": [],
   "source": [
    "Global_e_Commerce_sales=Globe_df[\"Global retail e-commerce sales (in billion $US dollars)\"]\n",
    "Global_e_Commerce_sales.head()"
   ]
  },
  {
   "cell_type": "code",
   "execution_count": null,
   "metadata": {},
   "outputs": [],
   "source": [
    "plt.hist(Global_e_Commerce_sales)\n",
    "plt.xlabel('Global retail e-commerce sales in billion ($US)')\n",
    "plt.ylabel('Year')\n",
    "plt.show()"
   ]
  },
  {
   "cell_type": "code",
   "execution_count": null,
   "metadata": {},
   "outputs": [],
   "source": [
    "# Demonstrate calculating the z-scores using SciPy\n",
    "import scipy.stats as sts\n",
    "z_scipy = sts.zscore(Global_e_Commerce_sales)\n",
    "z_scipy"
   ]
  },
  {
   "cell_type": "code",
   "execution_count": null,
   "metadata": {},
   "outputs": [],
   "source": [
    "print(combined_data.describe())"
   ]
  },
  {
   "cell_type": "code",
   "execution_count": null,
   "metadata": {},
   "outputs": [],
   "source": [
    "# Generate a summary statistics table of mean, median, variance, standard deviation, and SEM for each Year (binning group#)\n",
    "#Create summary table displaying # of data points for each Year\n",
    "summarystats = pd.DataFrame(combined_data.groupby(\"Binning group#\").count())\n",
    "summarystats = pd.DataFrame(combined_data.groupby(\"Binning group#\").mean())\n",
    "summarystats = pd.DataFrame(combined_data.groupby(\"Binning group#\").median())\n",
    "summarystats\n",
    "\n",
    "#Rename columns\n",
    "summarystats = summarystats.rename(columns = {\"Online Retail Sales Accumulated(in billion $US dollars)\" : \"China-Online Retail Sales Accumulated(in billion $US dollars)\"})\n",
    "summarystats"
   ]
  },
  {
   "cell_type": "code",
   "execution_count": null,
   "metadata": {},
   "outputs": [],
   "source": [
    "print(China_data_df_mo.describe())"
   ]
  },
  {
   "cell_type": "code",
   "execution_count": null,
   "metadata": {},
   "outputs": [],
   "source": [
    "# Creating a group based off of the bins\n",
    "df = China_data_df_mo.groupby(\"Annual Data Summary\")\n",
    "df.max()"
   ]
  },
  {
   "cell_type": "code",
   "execution_count": null,
   "metadata": {},
   "outputs": [],
   "source": [
    "#Read in Germany_Global Data\n",
    "German_results_df = read_csv('Germany_glob.csv', header=0, parse_dates=[0], index_col=0, squeeze=True)\n",
    "German_results_df.head()"
   ]
  },
  {
   "cell_type": "code",
   "execution_count": null,
   "metadata": {},
   "outputs": [],
   "source": [
    "China_data_df3 = China_data_df_mo.sample(n=100, random_state=120, axis=0)\n",
    "China_data_df3['Online Retail Sales in Goods Accumulated Growth Rate(%)'].plot()\n",
    "plt.xlabel=('Date')\n",
    "plt.ylabel=('Online Retail Sales in Goods Accumulated Growth Rate(%)')\n",
    "plt.title=('China Ecommerce Trends')"
   ]
  },
  {
   "cell_type": "code",
   "execution_count": null,
   "metadata": {},
   "outputs": [],
   "source": [
    "combined_data.index"
   ]
  }
 ],
 "metadata": {
  "anaconda-cloud": {},
  "kernelspec": {
   "display_name": "Python 3",
   "language": "python",
   "name": "python3"
  },
  "language_info": {
   "codemirror_mode": {
    "name": "ipython",
    "version": 3
   },
   "file_extension": ".py",
   "mimetype": "text/x-python",
   "name": "python",
   "nbconvert_exporter": "python",
   "pygments_lexer": "ipython3",
   "version": "3.7.6"
  }
 },
 "nbformat": 4,
 "nbformat_minor": 2
}
